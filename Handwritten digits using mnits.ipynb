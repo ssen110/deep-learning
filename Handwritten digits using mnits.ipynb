{
 "cells": [
  {
   "cell_type": "code",
   "execution_count": 1,
   "metadata": {},
   "outputs": [
    {
     "name": "stdout",
     "output_type": "stream",
     "text": [
      "(60000, 28, 28)\n"
     ]
    }
   ],
   "source": [
    "import cv2\n",
    "import numpy as np\n",
    "import matplotlib.pyplot as plt\n",
    "\n",
    "from keras.datasets import mnist\n",
    "##  Loading the dataset\n",
    "(x_train, y_train), (x_test, y_test) = mnist.load_data()\n",
    "print(x_train.shape)"
   ]
  },
  {
   "cell_type": "markdown",
   "metadata": {},
   "source": [
    "#### Examine the size , it is a good practice "
   ]
  },
  {
   "cell_type": "code",
   "execution_count": 2,
   "metadata": {},
   "outputs": [
    {
     "name": "stdout",
     "output_type": "stream",
     "text": [
      "Initial shape of dimension of x_train: (60000, 28, 28)\n",
      "Number of samples in our trainig data: 60000\n",
      "Number of labels in our trainig data: 60000\n",
      "Number of samples in our test data: 10000\n",
      "Number of labels in our test data: 10000\n",
      "\n",
      "Dimension of x_train:  (28, 28)\n",
      "Lables in x_train:  (60000,)\n",
      "\n",
      "Dimension of x_test:  (28, 28)\n",
      "Lables in y_test:  (10000,)\n"
     ]
    }
   ],
   "source": [
    "print('Initial shape of dimension of x_train:', str(x_train.shape))\n",
    "print('Number of samples in our trainig data:', str(len(x_train)))\n",
    "print('Number of labels in our trainig data:', str(len(y_train)))\n",
    "print('Number of samples in our test data:', str(len(x_test)))\n",
    "print('Number of labels in our test data:', str(len(y_test)))\n",
    "print()\n",
    "\n",
    "print('Dimension of x_train: ', str(x_train[0].shape))\n",
    "print('Lables in x_train: ', str(y_train.shape))\n",
    "print()\n",
    "\n",
    "print('Dimension of x_test: ', str(x_test[0].shape))\n",
    "print('Lables in y_test: ', str(y_test.shape))\n"
   ]
  },
  {
   "cell_type": "markdown",
   "metadata": {},
   "source": [
    "#### Looking into some random images : Using openCV"
   ]
  },
  {
   "cell_type": "code",
   "execution_count": 3,
   "metadata": {},
   "outputs": [],
   "source": [
    "# Using opencv to display some random images\n",
    "\n",
    "num = 5\n",
    "for i in range(0, num):\n",
    "    random_num = np.random.randint(0, len(x_train))\n",
    "    img = x_train[random_num]\n",
    "    window_name = 'Random Sample ' + str(i)\n",
    "    cv2.imshow(window_name, img)\n",
    "    cv2.waitKey(0)\n",
    "cv2.destroyAllWindows()   "
   ]
  },
  {
   "cell_type": "markdown",
   "metadata": {},
   "source": [
    "#### Looking into some random images: Using Matplotlib"
   ]
  },
  {
   "cell_type": "code",
   "execution_count": 4,
   "metadata": {},
   "outputs": [
    {
     "data": {
      "image/png": "[encoded data removed]",
      "text/plain": [
       "<Figure size 432x288 with 6 Axes>"
      ]
     },
     "metadata": {
      "needs_background": "light"
     },
     "output_type": "display_data"
    }
   ],
   "source": [
    "# Using MatplotLib\n",
    "# subplot's arguments are nrows, ncols, index\n",
    "plt.subplot(331)\n",
    "random_num = np.random.randint(0, len(x_train))\n",
    "plt.imshow(x_train[random_num], cmap = plt.get_cmap('gray'))\n",
    "\n",
    "plt.subplot(332)\n",
    "random_num = np.random.randint(0, len(x_train))\n",
    "plt.imshow(x_train[random_num], cmap = plt.get_cmap('gray'))\n",
    "\n",
    "plt.subplot(333)\n",
    "random_num = np.random.randint(0, len(x_train))\n",
    "plt.imshow(x_train[random_num], cmap = plt.get_cmap('gray'))\n",
    "\n",
    "plt.subplot(334)\n",
    "random_num = np.random.randint(0, len(x_train))\n",
    "plt.imshow(x_train[random_num], cmap = plt.get_cmap('gray'))\n",
    "\n",
    "plt.subplot(335)\n",
    "random_num = np.random.randint(0, len(x_train))\n",
    "plt.imshow(x_train[random_num], cmap = plt.get_cmap('gray'))\n",
    "\n",
    "plt.subplot(336)\n",
    "random_num = np.random.randint(0, len(x_train))\n",
    "plt.imshow(x_train[random_num], cmap = plt.get_cmap('gray'))\n",
    "\n",
    "plt.show()\n"
   ]
  },
  {
   "cell_type": "markdown",
   "metadata": {},
   "source": [
    "#### Reshaping the imgae shape "
   ]
  },
  {
   "cell_type": "raw",
   "metadata": {},
   "source": [
    "shape of x_train: (60000, 28, 28)\n",
    "However, the input_format of the keras:\n",
    "    number of samples, rows, cols, Depth(for gray scale the depth = 1 and for colour image the depth =3) \n",
    "\n",
    "\n",
    "## Keras expect datas as float32 so we have to convert it as well\n",
    "## we have to Normalize the data as well to make it from (0, 255) to (0, 1)"
   ]
  },
  {
   "cell_type": "code",
   "execution_count": 5,
   "metadata": {},
   "outputs": [
    {
     "name": "stdout",
     "output_type": "stream",
     "text": [
      "x_train shape:  (60000, 28, 28, 1)\n",
      "60000 train samples\n",
      "10000 test samples\n"
     ]
    }
   ],
   "source": [
    "img_rows = x_train[0].shape[0]\n",
    "img_cols = x_train[1].shape[0]\n",
    "\n",
    "x_train = x_train.reshape(x_train.shape[0], img_rows, img_cols, 1)\n",
    "x_test = x_test.reshape(x_test.shape[0], img_rows, img_cols, 1)\n",
    "\n",
    "# storing the input shape of an image\n",
    "input_shape = (img_rows, img_cols, 1)\n",
    "\n",
    "# change our image type to float32 as keras needs that format\n",
    "x_train = x_train.astype('float32')\n",
    "x_test = x_test.astype('float32')\n",
    "\n",
    "# Normalizing the input shape in order to train faster\n",
    "x_train /=255\n",
    "x_test/=255\n",
    "\n",
    "print('x_train shape: ', x_train.shape)\n",
    "print(x_train.shape[0], 'train samples')\n",
    "print(x_test.shape[0], 'test samples')"
   ]
  },
  {
   "cell_type": "markdown",
   "metadata": {},
   "source": [
    "#### Step : One Hot Encode Our Labels"
   ]
  },
  {
   "cell_type": "raw",
   "metadata": {},
   "source": [
    "So far we have done,\n",
    "1. Added 4th dimension to the input data(x_train and x_test)\n",
    "        : from (60000, 28, 28) to (60000, 28, 28, 1)\n",
    "2. Changed if to Float32\n",
    "3. Normalize if between 0 to 1\n",
    "\n",
    "\n",
    "Now we have to encode the label data as keras only accept those format.\n",
    "4  --->  0000100000\n",
    "9  --->  0000000001\n",
    "It can be done by Hotone encoding "
   ]
  },
  {
   "cell_type": "code",
   "execution_count": 6,
   "metadata": {},
   "outputs": [
    {
     "name": "stdout",
     "output_type": "stream",
     "text": [
      "7\n",
      "Number of classes:  10\n"
     ]
    }
   ],
   "source": [
    "from keras.utils import np_utils \n",
    "\n",
    "# We can use the hot encoder\n",
    "y_train = np_utils.to_categorical(y_train)\n",
    "y_test = np_utils.to_categorical(y_test)\n",
    "\n",
    "# Count the number of columns \n",
    "print('Number of classes: ', str(y_test.shape[1]))\n",
    "\n",
    "num_classes = y_test.shape[1]\n",
    "num_pixels = x_train.shape[1] + x_train.shape[2]"
   ]
  },
  {
   "cell_type": "code",
   "execution_count": 8,
   "metadata": {},
   "outputs": [],
   "source": [
    "# y_test[0]"
   ]
  },
  {
   "cell_type": "markdown",
   "metadata": {},
   "source": [
    "#### Building the model:"
   ]
  },
  {
   "cell_type": "code",
   "execution_count": 16,
   "metadata": {},
   "outputs": [
    {
     "name": "stdout",
     "output_type": "stream",
     "text": [
      "Model: \"sequential_3\"\n",
      "_________________________________________________________________\n",
      "Layer (type)                 Output Shape              Param #   \n",
      "=================================================================\n",
      "conv2d_5 (Conv2D)            (None, 26, 26, 32)        320       \n",
      "_________________________________________________________________\n",
      "conv2d_6 (Conv2D)            (None, 24, 24, 64)        18496     \n",
      "_________________________________________________________________\n",
      "max_pooling2d_2 (MaxPooling2 (None, 12, 12, 64)        0         \n",
      "_________________________________________________________________\n",
      "dropout_4 (Dropout)          (None, 12, 12, 64)        0         \n",
      "_________________________________________________________________\n",
      "flatten_2 (Flatten)          (None, 9216)              0         \n",
      "_________________________________________________________________\n",
      "dense_4 (Dense)              (None, 128)               1179776   \n",
      "_________________________________________________________________\n",
      "dropout_5 (Dropout)          (None, 128)               0         \n",
      "_________________________________________________________________\n",
      "dense_5 (Dense)              (None, 10)                1290      \n",
      "=================================================================\n",
      "Total params: 1,199,882\n",
      "Trainable params: 1,199,882\n",
      "Non-trainable params: 0\n",
      "_________________________________________________________________\n",
      "None\n"
     ]
    }
   ],
   "source": [
    "import keras\n",
    "from keras.models import Sequential\n",
    "from keras.layers import Dense, Dropout, Flatten, Conv2D, MaxPooling2D\n",
    "from keras import backend as K\n",
    "from keras.optimizers import SGD\n",
    "\n",
    "# Create model\n",
    "model = Sequential()\n",
    "model.add(Conv2D(32, kernel_size = (3, 3), \n",
    "                 activation = 'relu', input_shape=input_shape))\n",
    "model.add(Conv2D(64, kernel_size = (3, 3), activation = 'relu'))\n",
    "model.add(MaxPooling2D(pool_size = (2, 2)))\n",
    "model.add(Dropout(0.25))\n",
    "model.add(Flatten())\n",
    "model.add(Dense(128, activation = 'relu'))\n",
    "model.add(Dropout(0.5))\n",
    "model.add(Dense(num_classes, activation = 'softmax'))\n",
    "model.compile(loss = 'categorical_crossentropy', optimizer = SGD(0.001),\n",
    "                                                metrics = ['accuracy'])\n",
    "print(model.summary())"
   ]
  },
  {
   "cell_type": "markdown",
   "metadata": {},
   "source": [
    "#### Training our model"
   ]
  },
  {
   "cell_type": "markdown",
   "metadata": {},
   "source": [
    "1. We place our formatted data as the inputs and set the batch size, number of epochs(How many images we processed in one batch)"
   ]
  },
  {
   "cell_type": "code",
   "execution_count": 18,
   "metadata": {},
   "outputs": [
    {
     "name": "stdout",
     "output_type": "stream",
     "text": [
      "Epoch 1/10\n",
      "1875/1875 [==============================] - 23s 12ms/step - loss: 0.6417 - accuracy: 0.8002 - val_loss: 0.3384 - val_accuracy: 0.9051\n",
      "Epoch 2/10\n",
      "1875/1875 [==============================] - 28s 15ms/step - loss: 0.4913 - accuracy: 0.8487 - val_loss: 0.2770 - val_accuracy: 0.9190\n",
      "Epoch 3/10\n",
      "1875/1875 [==============================] - 28s 15ms/step - loss: 0.4250 - accuracy: 0.8703 - val_loss: 0.2424 - val_accuracy: 0.9290\n",
      "Epoch 4/10\n",
      "1875/1875 [==============================] - 26s 14ms/step - loss: 0.3877 - accuracy: 0.8825 - val_loss: 0.2217 - val_accuracy: 0.9362\n",
      "Epoch 5/10\n",
      "1875/1875 [==============================] - 25s 14ms/step - loss: 0.3551 - accuracy: 0.8933 - val_loss: 0.2035 - val_accuracy: 0.9410\n",
      "Epoch 6/10\n",
      "1875/1875 [==============================] - 24s 13ms/step - loss: 0.3377 - accuracy: 0.8986 - val_loss: 0.1914 - val_accuracy: 0.9444\n",
      "Epoch 7/10\n",
      "1875/1875 [==============================] - 28s 15ms/step - loss: 0.3248 - accuracy: 0.9013 - val_loss: 0.1818 - val_accuracy: 0.9483\n",
      "Epoch 8/10\n",
      "1875/1875 [==============================] - 25s 14ms/step - loss: 0.3110 - accuracy: 0.9071 - val_loss: 0.1727 - val_accuracy: 0.9488\n",
      "Epoch 9/10\n",
      "1875/1875 [==============================] - 25s 13ms/step - loss: 0.2987 - accuracy: 0.9097 - val_loss: 0.1655 - val_accuracy: 0.9524\n",
      "Epoch 10/10\n",
      "1875/1875 [==============================] - 25s 13ms/step - loss: 0.2909 - accuracy: 0.9126 - val_loss: 0.1588 - val_accuracy: 0.9533\n",
      "Test Loss :  0.1587532013654709\n",
      "Test accuracy :  0.9532999992370605\n"
     ]
    }
   ],
   "source": [
    "batch_size = 32\n",
    "epochs = 10\n",
    "\n",
    "history = model.fit(x_train, y_train,\n",
    "                   batch_size = batch_size,\n",
    "                   epochs = epochs,\n",
    "                   verbose = 1,\n",
    "                   validation_data = (x_test, y_test))\n",
    "score = model.evaluate(x_test, y_test, verbose = 0)\n",
    "print('Test Loss : ', score[0])\n",
    "print('Test accuracy : ', score[1])\n"
   ]
  },
  {
   "cell_type": "markdown",
   "metadata": {},
   "source": [
    "#### Plotting the loss and accuracy"
   ]
  },
  {
   "cell_type": "code",
   "execution_count": 21,
   "metadata": {},
   "outputs": [
    {
     "data": {
      "image/png": "[encoded data removed]",
      "text/plain": [
       "<Figure size 432x288 with 1 Axes>"
      ]
     },
     "metadata": {
      "needs_background": "light"
     },
     "output_type": "display_data"
    }
   ],
   "source": [
    " # Plotting the loss charts \n",
    "history_dict = history.history ## We can get the history of that from above \n",
    "\n",
    "loss_values = history_dict['loss']\n",
    "val_loss_values = history_dict['val_loss']\n",
    "epochs = range(1, len(loss_values) + 1)\n",
    "\n",
    "line_1 = plt.plot(epochs, val_loss_values, label = 'Validation/Test loss')\n",
    "line_2 = plt.plot(epochs, loss_values, label = 'Training loss')\n",
    "plt.setp(line_1, linewidth = 2.0, marker = '+', markersize = 10.0)\n",
    "plt.setp(line_2,linewidth = 2.0, marker = '4',markersize = 10.0)\n",
    "plt.xlabel('Epochs')\n",
    "plt.ylabel('Loss')\n",
    "plt.grid(True)\n",
    "plt.legend()\n",
    "plt.show()"
   ]
  },
  {
   "cell_type": "code",
   "execution_count": 24,
   "metadata": {},
   "outputs": [
    {
     "data": {
      "image/png": "[encoded data removed]",
      "text/plain": [
       "<Figure size 432x288 with 1 Axes>"
      ]
     },
     "metadata": {
      "needs_background": "light"
     },
     "output_type": "display_data"
    }
   ],
   "source": [
    " # Plotting the accuracy charts \n",
    "history_dict = history.history ## We can get the history of that from above \n",
    "\n",
    "loss_values = history_dict['accuracy']\n",
    "val_loss_values = history_dict['val_accuracy']\n",
    "epochs = range(1, len(loss_values) + 1)\n",
    "\n",
    "line_1 = plt.plot(epochs, val_loss_values, label = 'Validation/Test acc')\n",
    "line_2 = plt.plot(epochs, loss_values, label = 'Training acc')\n",
    "plt.setp(line_1, linewidth = 2.0, marker = '+', markersize = 10.0)\n",
    "plt.setp(line_2,linewidth = 2.0, marker = '4',markersize = 10.0)\n",
    "plt.xlabel('Epochs')\n",
    "plt.ylabel('Accuracy')\n",
    "plt.grid(True)\n",
    "plt.legend()\n",
    "plt.show()"
   ]
  },
  {
   "cell_type": "markdown",
   "metadata": {},
   "source": [
    "#### Saving our model"
   ]
  },
  {
   "cell_type": "code",
   "execution_count": 29,
   "metadata": {},
   "outputs": [
    {
     "name": "stdout",
     "output_type": "stream",
     "text": [
      "Model Saved \n"
     ]
    }
   ],
   "source": [
    "model.save('D:\\programming\\jupyter\\Deep Learning\\models made by me from image videos\\mnist_simpleCNN_10Epochs.h5')\n",
    "print('Model Saved ')"
   ]
  },
  {
   "cell_type": "markdown",
   "metadata": {},
   "source": [
    "#### Loading a saved model"
   ]
  },
  {
   "cell_type": "code",
   "execution_count": 30,
   "metadata": {},
   "outputs": [],
   "source": [
    "from keras.models import load_model\n",
    "classifier = load_model('D:\\programming\\jupyter\\Deep Learning\\models made by me from image videos\\mnist_simpleCNN_10Epochs.h5')"
   ]
  },
  {
   "cell_type": "markdown",
   "metadata": {},
   "source": [
    "#### Inputting some test data into classifier which is just made"
   ]
  },
  {
   "cell_type": "code",
   "execution_count": 32,
   "metadata": {},
   "outputs": [],
   "source": [
    "def draw_test(name, pred, input_im):\n",
    "    BLACK = [0,0,0]\n",
    "    expanded_img = cv2.copyMakeBorder(input_im, 0, 0, 0, imageL.shape[0], cv2.BORDER_CONSTANT,value = BLACK)\n",
    "    expanded_img = cv2.cvtColor(expanded_img, cv2.COLOR_GRAY2BGR)\n",
    "    cv2.putText(expanded_img, str(pred), (152, 70), cv2.FONT_HERSHEY_COMPLEX_SMALL, 4, (0, 255, 0), 2)\n",
    "    cv2.imshow(name, expanded_img)\n",
    "    \n",
    "for i in range(0, 10):\n",
    "    rand = np.random.randint(0, len(x_test))\n",
    "    input_im = x_test[rand]\n",
    "    \n",
    "    imageL = cv2.resize(input_im, None, fx = 4, fy = 4, interpolation = cv2.INTER_CUBIC)\n",
    "    input_im = input_im.reshape(1, 28, 28, 1)\n",
    "    \n",
    "    ## Get predictions\n",
    "    res = str(classifier.predict_classes(input_im, 1, verbose=0)[0])\n",
    "    draw_test('Prediction : ', res, imageL)\n",
    "    cv2.waitKey(0)\n",
    "cv2.destroyAllWindows()"
   ]
  },
  {
   "cell_type": "code",
   "execution_count": null,
   "metadata": {},
   "outputs": [],
   "source": []
  }
 ],
 "metadata": {
  "kernelspec": {
   "display_name": "Python 3",
   "language": "python",
   "name": "python3"
  },
  "language_info": {
   "codemirror_mode": {
    "name": "ipython",
    "version": 3
   },
   "file_extension": ".py",
   "mimetype": "text/x-python",
   "name": "python",
   "nbconvert_exporter": "python",
   "pygments_lexer": "ipython3",
   "version": "3.8.0"
  }
 },
 "nbformat": 4,
 "nbformat_minor": 4
}
